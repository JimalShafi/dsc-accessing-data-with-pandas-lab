{
 "cells": [
  {
   "cell_type": "markdown",
   "metadata": {},
   "source": [
    "# Accessing Data within Pandas - Lab"
   ]
  },
  {
   "cell_type": "markdown",
   "metadata": {},
   "source": [
    "## Introduction\n",
    "\n",
    "In this lab, we'll look at a dataset which contains information on World Cup matches. Let's use the pandas commands learned in the previous lesson to learn more about our data!"
   ]
  },
  {
   "cell_type": "markdown",
   "metadata": {},
   "source": [
    "## Objectives\n",
    "\n",
    "You will be able to: \n",
    "\n",
    "- Use pandas methods and attributes to access information about a dataset \n",
    "- Index pandas dataframes with .loc, .iloc, and column names \n",
    "- Use a boolean mask to index pandas series and dataframes"
   ]
  },
  {
   "cell_type": "markdown",
   "metadata": {},
   "source": [
    "## Load the Data"
   ]
  },
  {
   "cell_type": "markdown",
   "metadata": {},
   "source": [
    "Load the file `'WorldCupMatches.csv'` as a DataFrame in pandas."
   ]
  },
  {
   "cell_type": "code",
   "execution_count": 2,
   "metadata": {},
   "outputs": [
    {
     "name": "stdout",
     "output_type": "stream",
     "text": [
      "   Year              Datetime    Stage         Stadium         City  \\\n",
      "0  1930  13 Jul 1930 - 15:00   Group 1         Pocitos  Montevideo    \n",
      "1  1930  13 Jul 1930 - 15:00   Group 4  Parque Central  Montevideo    \n",
      "2  1930  14 Jul 1930 - 12:45   Group 2  Parque Central  Montevideo    \n",
      "3  1930  14 Jul 1930 - 14:50   Group 3         Pocitos  Montevideo    \n",
      "4  1930  15 Jul 1930 - 16:00   Group 1  Parque Central  Montevideo    \n",
      "\n",
      "  Home Team Name  Home Team Goals  Away Team Goals Away Team Name  \\\n",
      "0         France                4                1         Mexico   \n",
      "1            USA                3                0        Belgium   \n",
      "2     Yugoslavia                2                1         Brazil   \n",
      "3        Romania                3                1           Peru   \n",
      "4      Argentina                1                0         France   \n",
      "\n",
      "  Win conditions  Attendance  Half-time Home Goals  Half-time Away Goals  \\\n",
      "0                     4444.0                     3                     0   \n",
      "1                    18346.0                     2                     0   \n",
      "2                    24059.0                     2                     0   \n",
      "3                     2549.0                     1                     0   \n",
      "4                    23409.0                     0                     0   \n",
      "\n",
      "                  Referee               Assistant 1  \\\n",
      "0  LOMBARDI Domingo (URU)     CRISTOPHE Henry (BEL)   \n",
      "1       MACIAS Jose (ARG)  MATEUCCI Francisco (URU)   \n",
      "2     TEJADA Anibal (URU)   VALLARINO Ricardo (URU)   \n",
      "3   WARNKEN Alberto (CHI)       LANGENUS Jean (BEL)   \n",
      "4     REGO Gilberto (BRA)      SAUCEDO Ulises (BOL)   \n",
      "\n",
      "                  Assistant 2  RoundID  MatchID Home Team Initials  \\\n",
      "0         REGO Gilberto (BRA)      201     1096                FRA   \n",
      "1       WARNKEN Alberto (CHI)      201     1090                USA   \n",
      "2         BALWAY Thomas (FRA)      201     1093                YUG   \n",
      "3    MATEUCCI Francisco (URU)      201     1098                ROU   \n",
      "4  RADULESCU Constantin (ROU)      201     1085                ARG   \n",
      "\n",
      "  Away Team Initials  \n",
      "0                MEX  \n",
      "1                BEL  \n",
      "2                BRA  \n",
      "3                PER  \n",
      "4                FRA  \n"
     ]
    }
   ],
   "source": [
    "# Replace None with appropriate code\n",
    "\n",
    "# Import pandas using the standard alias\n",
    "import pandas as pd\n",
    "\n",
    "# Load 'WorldCupMatches.csv' as a DataFrame\n",
    "df = pd.read_csv('WorldCupMatches.csv')\n",
    "\n",
    "# Display the first few rows of the DataFrame to ensure it loaded correctly\n",
    "print(df.head())"
   ]
  },
  {
   "cell_type": "markdown",
   "metadata": {},
   "source": [
    "## Common Methods and Attributes"
   ]
  },
  {
   "cell_type": "markdown",
   "metadata": {},
   "source": [
    "Use the correct method to display the **first 7 rows** of the dataset."
   ]
  },
  {
   "cell_type": "code",
   "execution_count": 3,
   "metadata": {},
   "outputs": [
    {
     "name": "stdout",
     "output_type": "stream",
     "text": [
      "   Year              Datetime    Stage         Stadium         City  \\\n",
      "0  1930  13 Jul 1930 - 15:00   Group 1         Pocitos  Montevideo    \n",
      "1  1930  13 Jul 1930 - 15:00   Group 4  Parque Central  Montevideo    \n",
      "2  1930  14 Jul 1930 - 12:45   Group 2  Parque Central  Montevideo    \n",
      "3  1930  14 Jul 1930 - 14:50   Group 3         Pocitos  Montevideo    \n",
      "4  1930  15 Jul 1930 - 16:00   Group 1  Parque Central  Montevideo    \n",
      "5  1930  16 Jul 1930 - 14:45   Group 1  Parque Central  Montevideo    \n",
      "6  1930  17 Jul 1930 - 12:45   Group 2  Parque Central  Montevideo    \n",
      "\n",
      "  Home Team Name  Home Team Goals  Away Team Goals Away Team Name  \\\n",
      "0         France                4                1         Mexico   \n",
      "1            USA                3                0        Belgium   \n",
      "2     Yugoslavia                2                1         Brazil   \n",
      "3        Romania                3                1           Peru   \n",
      "4      Argentina                1                0         France   \n",
      "5          Chile                3                0         Mexico   \n",
      "6     Yugoslavia                4                0        Bolivia   \n",
      "\n",
      "  Win conditions  Attendance  Half-time Home Goals  Half-time Away Goals  \\\n",
      "0                     4444.0                     3                     0   \n",
      "1                    18346.0                     2                     0   \n",
      "2                    24059.0                     2                     0   \n",
      "3                     2549.0                     1                     0   \n",
      "4                    23409.0                     0                     0   \n",
      "5                     9249.0                     1                     0   \n",
      "6                    18306.0                     0                     0   \n",
      "\n",
      "                    Referee               Assistant 1  \\\n",
      "0    LOMBARDI Domingo (URU)     CRISTOPHE Henry (BEL)   \n",
      "1         MACIAS Jose (ARG)  MATEUCCI Francisco (URU)   \n",
      "2       TEJADA Anibal (URU)   VALLARINO Ricardo (URU)   \n",
      "3     WARNKEN Alberto (CHI)       LANGENUS Jean (BEL)   \n",
      "4       REGO Gilberto (BRA)      SAUCEDO Ulises (BOL)   \n",
      "5     CRISTOPHE Henry (BEL)   APHESTEGUY Martin (URU)   \n",
      "6  MATEUCCI Francisco (URU)    LOMBARDI Domingo (URU)   \n",
      "\n",
      "                  Assistant 2  RoundID  MatchID Home Team Initials  \\\n",
      "0         REGO Gilberto (BRA)      201     1096                FRA   \n",
      "1       WARNKEN Alberto (CHI)      201     1090                USA   \n",
      "2         BALWAY Thomas (FRA)      201     1093                YUG   \n",
      "3    MATEUCCI Francisco (URU)      201     1098                ROU   \n",
      "4  RADULESCU Constantin (ROU)      201     1085                ARG   \n",
      "5         LANGENUS Jean (BEL)      201     1095                CHI   \n",
      "6       WARNKEN Alberto (CHI)      201     1092                YUG   \n",
      "\n",
      "  Away Team Initials  \n",
      "0                MEX  \n",
      "1                BEL  \n",
      "2                BRA  \n",
      "3                PER  \n",
      "4                FRA  \n",
      "5                MEX  \n",
      "6                BOL  \n"
     ]
    }
   ],
   "source": [
    "# Your code here\n",
    "# Display the first 7 rows of the DataFrame\n",
    "print(df.head(7))\n"
   ]
  },
  {
   "cell_type": "markdown",
   "metadata": {},
   "source": [
    "Display the **last 3 rows** of the dataset."
   ]
  },
  {
   "cell_type": "code",
   "execution_count": 4,
   "metadata": {},
   "outputs": [
    {
     "name": "stdout",
     "output_type": "stream",
     "text": [
      "     Year              Datetime                     Stage  \\\n",
      "849  2014  09 Jul 2014 - 17:00                Semi-finals   \n",
      "850  2014  12 Jul 2014 - 17:00   Play-off for third place   \n",
      "851  2014  13 Jul 2014 - 16:00                      Final   \n",
      "\n",
      "                 Stadium             City Home Team Name  Home Team Goals  \\\n",
      "849   Arena de Sao Paulo       Sao Paulo     Netherlands                0   \n",
      "850     Estadio Nacional        Brasilia          Brazil                0   \n",
      "851  Estadio do Maracana  Rio De Janeiro         Germany                1   \n",
      "\n",
      "     Away Team Goals Away Team Name                       Win conditions  \\\n",
      "849                0      Argentina  Argentina win on penalties (2 - 4)    \n",
      "850                3    Netherlands                                        \n",
      "851                0      Argentina        Germany win after extra time    \n",
      "\n",
      "     Attendance  Half-time Home Goals  Half-time Away Goals  \\\n",
      "849     63267.0                     0                     0   \n",
      "850     68034.0                     0                     2   \n",
      "851     74738.0                     0                     0   \n",
      "\n",
      "                   Referee            Assistant 1              Assistant 2  \\\n",
      "849     C�neyt �AKIR (TUR)   DURAN Bahattin (TUR)        ONGUN Tarik (TUR)   \n",
      "850  HAIMOUDI Djamel (ALG)   ACHIK Redouane (MAR)  ETCHIALI Abdelhak (ALG)   \n",
      "851   Nicola RIZZOLI (ITA)  Renato FAVERANI (ITA)     Andrea STEFANI (ITA)   \n",
      "\n",
      "     RoundID    MatchID Home Team Initials Away Team Initials  \n",
      "849   255955  300186490                NED                ARG  \n",
      "850   255957  300186502                BRA                NED  \n",
      "851   255959  300186501                GER                ARG  \n"
     ]
    }
   ],
   "source": [
    "# Your code here\n",
    "# Display the last 3 rows of the DataFrame\n",
    "print(df.tail(3))\n"
   ]
  },
  {
   "cell_type": "markdown",
   "metadata": {},
   "source": [
    "Get a concise summary of the data using `.info()`. "
   ]
  },
  {
   "cell_type": "code",
   "execution_count": 5,
   "metadata": {},
   "outputs": [
    {
     "name": "stdout",
     "output_type": "stream",
     "text": [
      "<class 'pandas.core.frame.DataFrame'>\n",
      "RangeIndex: 852 entries, 0 to 851\n",
      "Data columns (total 20 columns):\n",
      " #   Column                Non-Null Count  Dtype  \n",
      "---  ------                --------------  -----  \n",
      " 0   Year                  852 non-null    int64  \n",
      " 1   Datetime              852 non-null    object \n",
      " 2   Stage                 852 non-null    object \n",
      " 3   Stadium               852 non-null    object \n",
      " 4   City                  852 non-null    object \n",
      " 5   Home Team Name        852 non-null    object \n",
      " 6   Home Team Goals       852 non-null    int64  \n",
      " 7   Away Team Goals       852 non-null    int64  \n",
      " 8   Away Team Name        852 non-null    object \n",
      " 9   Win conditions        852 non-null    object \n",
      " 10  Attendance            850 non-null    float64\n",
      " 11  Half-time Home Goals  852 non-null    int64  \n",
      " 12  Half-time Away Goals  852 non-null    int64  \n",
      " 13  Referee               852 non-null    object \n",
      " 14  Assistant 1           852 non-null    object \n",
      " 15  Assistant 2           852 non-null    object \n",
      " 16  RoundID               852 non-null    int64  \n",
      " 17  MatchID               852 non-null    int64  \n",
      " 18  Home Team Initials    852 non-null    object \n",
      " 19  Away Team Initials    852 non-null    object \n",
      "dtypes: float64(1), int64(7), object(12)\n",
      "memory usage: 133.2+ KB\n",
      "None\n"
     ]
    }
   ],
   "source": [
    "# Your code here\n",
    "# Get a concise summary of the data\n",
    "print(df.info())\n"
   ]
  },
  {
   "cell_type": "markdown",
   "metadata": {},
   "source": [
    "Obtain a tuple representing the **number of rows and number of columns**."
   ]
  },
  {
   "cell_type": "code",
   "execution_count": 6,
   "metadata": {},
   "outputs": [
    {
     "name": "stdout",
     "output_type": "stream",
     "text": [
      "Number of rows: 852\n",
      "Number of columns: 20\n"
     ]
    }
   ],
   "source": [
    "# Your code here\n",
    "\n",
    "# Obtain a tuple representing the number of rows and number of columns\n",
    "num_rows, num_columns = df.shape\n",
    "print(\"Number of rows:\", num_rows)\n",
    "print(\"Number of columns:\", num_columns)\n"
   ]
  },
  {
   "cell_type": "markdown",
   "metadata": {},
   "source": [
    "Use the appropriate attribute to get the **column names**."
   ]
  },
  {
   "cell_type": "code",
   "execution_count": 7,
   "metadata": {},
   "outputs": [
    {
     "name": "stdout",
     "output_type": "stream",
     "text": [
      "Column names: Index(['Year', 'Datetime', 'Stage', 'Stadium', 'City', 'Home Team Name',\n",
      "       'Home Team Goals', 'Away Team Goals', 'Away Team Name',\n",
      "       'Win conditions', 'Attendance', 'Half-time Home Goals',\n",
      "       'Half-time Away Goals', 'Referee', 'Assistant 1', 'Assistant 2',\n",
      "       'RoundID', 'MatchID', 'Home Team Initials', 'Away Team Initials'],\n",
      "      dtype='object')\n"
     ]
    }
   ],
   "source": [
    "# Your code here\n",
    "# Get the column names\n",
    "column_names = df.columns\n",
    "print(\"Column names:\", column_names)\n"
   ]
  },
  {
   "cell_type": "markdown",
   "metadata": {},
   "source": [
    "## Selecting DataFrame Information"
   ]
  },
  {
   "cell_type": "markdown",
   "metadata": {},
   "source": [
    "When looking at the DataFrame's `.head()` and `.tail()`, you might have noticed that the games are structured chronologically in the DataFrame.\n",
    "\n",
    "Use the right selection method to display all the information from the 3rd to the 5th game (i.e. **select rows 3 through 5 inclusive**)."
   ]
  },
  {
   "cell_type": "code",
   "execution_count": 8,
   "metadata": {},
   "outputs": [
    {
     "name": "stdout",
     "output_type": "stream",
     "text": [
      "   Year              Datetime    Stage         Stadium         City  \\\n",
      "2  1930  14 Jul 1930 - 12:45   Group 2  Parque Central  Montevideo    \n",
      "3  1930  14 Jul 1930 - 14:50   Group 3         Pocitos  Montevideo    \n",
      "4  1930  15 Jul 1930 - 16:00   Group 1  Parque Central  Montevideo    \n",
      "\n",
      "  Home Team Name  Home Team Goals  Away Team Goals Away Team Name  \\\n",
      "2     Yugoslavia                2                1         Brazil   \n",
      "3        Romania                3                1           Peru   \n",
      "4      Argentina                1                0         France   \n",
      "\n",
      "  Win conditions  Attendance  Half-time Home Goals  Half-time Away Goals  \\\n",
      "2                    24059.0                     2                     0   \n",
      "3                     2549.0                     1                     0   \n",
      "4                    23409.0                     0                     0   \n",
      "\n",
      "                 Referee              Assistant 1                 Assistant 2  \\\n",
      "2    TEJADA Anibal (URU)  VALLARINO Ricardo (URU)         BALWAY Thomas (FRA)   \n",
      "3  WARNKEN Alberto (CHI)      LANGENUS Jean (BEL)    MATEUCCI Francisco (URU)   \n",
      "4    REGO Gilberto (BRA)     SAUCEDO Ulises (BOL)  RADULESCU Constantin (ROU)   \n",
      "\n",
      "   RoundID  MatchID Home Team Initials Away Team Initials  \n",
      "2      201     1093                YUG                BRA  \n",
      "3      201     1098                ROU                PER  \n",
      "4      201     1085                ARG                FRA  \n"
     ]
    }
   ],
   "source": [
    "# Your code here\n",
    "# Select rows 3 through 5 inclusive\n",
    "games_3_to_5 = df.iloc[2:5]  # Rows are zero-indexed, so 2:5 selects rows 3 to 5 inclusive\n",
    "print(games_3_to_5)\n"
   ]
  },
  {
   "cell_type": "markdown",
   "metadata": {},
   "source": [
    "Now, display the info from **game 5-9** (inclusive), but **only the `\"Home Team Name\"` and the `\"Away Team Name\"` columns**."
   ]
  },
  {
   "cell_type": "code",
   "execution_count": 9,
   "metadata": {},
   "outputs": [
    {
     "name": "stdout",
     "output_type": "stream",
     "text": [
      "              Stadium         City\n",
      "4      Parque Central  Montevideo \n",
      "5      Parque Central  Montevideo \n",
      "6      Parque Central  Montevideo \n",
      "7      Parque Central  Montevideo \n",
      "8  Estadio Centenario  Montevideo \n"
     ]
    }
   ],
   "source": [
    "# Your code here\n",
    "# Select rows 5 through 9 inclusive, and only the \"Home Team Name\" and \"Away Team Name\" columns\n",
    "games_5_to_9 = df.iloc[4:9, [3, 4]]  # Rows are zero-indexed, so 4:9 selects rows 5 to 9 inclusive\n",
    "print(games_5_to_9)\n"
   ]
  },
  {
   "cell_type": "markdown",
   "metadata": {},
   "source": [
    "Next, we'd like the information on all the games played in **Group 3** for the **1950** World Cup."
   ]
  },
  {
   "cell_type": "markdown",
   "metadata": {},
   "source": [
    "Hint: You can combine conditions like this:\n",
    "\n",
    "`df[(condition1) | (condition2)]`  -> Returns rows where either condition is true\n",
    "\n",
    "`df[(condition1) & (condition2)]`  -> Returns rows where both conditions are true"
   ]
  },
  {
   "cell_type": "code",
   "execution_count": 10,
   "metadata": {},
   "outputs": [
    {
     "name": "stdout",
     "output_type": "stream",
     "text": [
      "    Year              Datetime    Stage           Stadium        City  \\\n",
      "56  1950  25 Jun 1950 - 15:00   Group 3          Pacaembu  Sao Paulo    \n",
      "61  1950  29 Jun 1950 - 15:30   Group 3  Durival de Brito   Curitiba    \n",
      "65  1950  02 Jul 1950 - 15:00   Group 3          Pacaembu  Sao Paulo    \n",
      "\n",
      "   Home Team Name  Home Team Goals  Away Team Goals Away Team Name  \\\n",
      "56         Sweden                3                2          Italy   \n",
      "61         Sweden                2                2       Paraguay   \n",
      "65          Italy                2                0       Paraguay   \n",
      "\n",
      "   Win conditions  Attendance  Half-time Home Goals  Half-time Away Goals  \\\n",
      "56                    36502.0                     2                     1   \n",
      "61                     7903.0                     2                     1   \n",
      "65                    25811.0                     1                     0   \n",
      "\n",
      "                  Referee             Assistant 1                Assistant 2  \\\n",
      "56        LUTZ Jean (SUI)     BERANEK Alois (AUT)        TEJADA Carlos (MEX)   \n",
      "61  MITCHELL Robert (SCO)       LEMESIC Leo (YUG)     GARCIA Prudencio (USA)   \n",
      "65     ELLIS Arthur (ENG)  GARCIA Prudencio (USA)  DE LA SALLE Charles (FRA)   \n",
      "\n",
      "    RoundID  MatchID Home Team Initials Away Team Initials  \n",
      "56      208     1219                SWE                ITA  \n",
      "61      208     1228                SWE                PAR  \n",
      "65      208     1218                ITA                PAR  \n"
     ]
    }
   ],
   "source": [
    "# Your code here\n",
    "# Select rows where the Group is 3 and the Year is 1950\n",
    "group_3_1950 = df[(df['Year'] == 1950) & (df['Stage'] == 'Group 3')]\n",
    "\n",
    "print(group_3_1950)\n"
   ]
  },
  {
   "cell_type": "markdown",
   "metadata": {},
   "source": [
    "Let's repeat the command above, but this time display **only the attendance column** for the Group 3 games. "
   ]
  },
  {
   "cell_type": "code",
   "execution_count": 11,
   "metadata": {},
   "outputs": [
    {
     "name": "stdout",
     "output_type": "stream",
     "text": [
      "56    36502.0\n",
      "61     7903.0\n",
      "65    25811.0\n",
      "Name: Attendance, dtype: float64\n"
     ]
    }
   ],
   "source": [
    "# Your code here\n",
    "# Select rows where the Group is 3 and the Year is 1950, and then select only the \"Attendance\" column\n",
    "attendance_group_3_1950 = df.loc[(df['Year'] == 1950) & (df['Stage'] == 'Group 3'), 'Attendance']\n",
    "\n",
    "print(attendance_group_3_1950)\n"
   ]
  },
  {
   "cell_type": "markdown",
   "metadata": {},
   "source": [
    "Throughout the entire history of the World Cup as recorded in this dataset, **how many home games were played by the Netherlands**?\n",
    "\n",
    "(Remember that you can use the `len()` built-in function to find the number of rows in a DataFrame.)"
   ]
  },
  {
   "cell_type": "code",
   "execution_count": 12,
   "metadata": {},
   "outputs": [
    {
     "name": "stdout",
     "output_type": "stream",
     "text": [
      "Total home games played by the Netherlands: 32\n"
     ]
    }
   ],
   "source": [
    "# Your code here\n",
    "# Filter the DataFrame for games where the home team is the Netherlands\n",
    "netherlands_home_games = df[df['Home Team Name'] == 'Netherlands']\n",
    "\n",
    "# Get the total number of rows, which represents the total number of home games played by the Netherlands\n",
    "total_netherlands_home_games = len(netherlands_home_games)\n",
    "\n",
    "print(\"Total home games played by the Netherlands:\", total_netherlands_home_games)\n"
   ]
  },
  {
   "cell_type": "markdown",
   "metadata": {},
   "source": [
    "**How many games were played by the Netherlands in total**?"
   ]
  },
  {
   "cell_type": "code",
   "execution_count": 13,
   "metadata": {},
   "outputs": [
    {
     "name": "stdout",
     "output_type": "stream",
     "text": [
      "Total games played by the Netherlands: 54\n"
     ]
    }
   ],
   "source": [
    "# Your code here\n",
    "# Filter the DataFrame for games where the Netherlands played as the home team\n",
    "netherlands_home_games = df[df['Home Team Name'] == 'Netherlands']\n",
    "\n",
    "# Filter the DataFrame for games where the Netherlands played as the away team\n",
    "netherlands_away_games = df[df['Away Team Name'] == 'Netherlands']\n",
    "\n",
    "# Get the total number of games played by the Netherlands by adding the counts of home and away games\n",
    "total_netherlands_games = len(netherlands_home_games) + len(netherlands_away_games)\n",
    "\n",
    "print(\"Total games played by the Netherlands:\", total_netherlands_games)\n"
   ]
  },
  {
   "cell_type": "markdown",
   "metadata": {},
   "source": [
    "Next, let's try and figure out **how many games the USA played in the 2014 World Cup**."
   ]
  },
  {
   "cell_type": "code",
   "execution_count": 14,
   "metadata": {},
   "outputs": [
    {
     "name": "stdout",
     "output_type": "stream",
     "text": [
      "Total games played by the USA in the 2014 World Cup: 5\n"
     ]
    }
   ],
   "source": [
    "# Your code here\n",
    "# Filter the DataFrame for games where the year is 2014 and the USA played as either the home team or the away team\n",
    "usa_games_2014 = df[((df['Home Team Name'] == 'USA') | (df['Away Team Name'] == 'USA')) & (df['Year'] == 2014)]\n",
    "\n",
    "# Get the total number of games the USA played in the 2014 World Cup\n",
    "total_usa_games_2014 = len(usa_games_2014)\n",
    "\n",
    "print(\"Total games played by the USA in the 2014 World Cup:\", total_usa_games_2014)\n"
   ]
  },
  {
   "cell_type": "markdown",
   "metadata": {},
   "source": [
    "Now, let's try to find out **how many countries participated in the 1986 World Cup**."
   ]
  },
  {
   "cell_type": "markdown",
   "metadata": {},
   "source": [
    "Hint 1: As a first step, create a new dataset that only contains games in that year.\n",
    "\n",
    "Hint 2: Make sure you don't end up with duplicate country names. Consider using `set()` or `.unique()`."
   ]
  },
  {
   "cell_type": "code",
   "execution_count": 15,
   "metadata": {
    "scrolled": true
   },
   "outputs": [
    {
     "name": "stdout",
     "output_type": "stream",
     "text": [
      "Total number of countries participated in the 1986 World Cup: 24\n"
     ]
    }
   ],
   "source": [
    "# Your code here\n",
    "# Filter the DataFrame for games played in the year 1986\n",
    "games_1986 = df[df['Year'] == 1986]\n",
    "\n",
    "# Get unique country names from both the \"Home Team Name\" and \"Away Team Name\" columns\n",
    "unique_countries_home = games_1986['Home Team Name'].unique()\n",
    "unique_countries_away = games_1986['Away Team Name'].unique()\n",
    "\n",
    "# Combine unique country names from both columns\n",
    "all_unique_countries = set(unique_countries_home) | set(unique_countries_away)\n",
    "\n",
    "# Get the total number of unique countries participating in the 1986 World Cup\n",
    "total_countries_1986 = len(all_unique_countries)\n",
    "\n",
    "print(\"Total number of countries participated in the 1986 World Cup:\", total_countries_1986)\n"
   ]
  },
  {
   "cell_type": "markdown",
   "metadata": {},
   "source": [
    "## Changing Values and Creating New Columns"
   ]
  },
  {
   "cell_type": "markdown",
   "metadata": {},
   "source": [
    "In World Cup history, **how many matches had 5 goals or more in total**? Create a column `\"Total Goals\"` to answer this question."
   ]
  },
  {
   "cell_type": "code",
   "execution_count": 16,
   "metadata": {},
   "outputs": [
    {
     "name": "stdout",
     "output_type": "stream",
     "text": [
      "Total matches with 5 goals or more in total: 147\n"
     ]
    }
   ],
   "source": [
    "# Your code here\n",
    "# Create a new column \"Total Goals\" by summing the goals scored by home and away teams\n",
    "df['Total Goals'] = df['Home Team Goals'] + df['Away Team Goals']\n",
    "\n",
    "# Count the matches where the total goals scored are 5 or more\n",
    "matches_with_5_goals_or_more = df[df['Total Goals'] >= 5]\n",
    "\n",
    "total_matches_with_5_goals_or_more = len(matches_with_5_goals_or_more)\n",
    "\n",
    "print(\"Total matches with 5 goals or more in total:\", total_matches_with_5_goals_or_more)\n"
   ]
  },
  {
   "cell_type": "markdown",
   "metadata": {},
   "source": [
    "Now **create a new column `\"Half-time Goals\"`** in `df` that includes both home and away values."
   ]
  },
  {
   "cell_type": "code",
   "execution_count": 17,
   "metadata": {},
   "outputs": [
    {
     "name": "stdout",
     "output_type": "stream",
     "text": [
      "   Year              Datetime    Stage         Stadium         City  \\\n",
      "0  1930  13 Jul 1930 - 15:00   Group 1         Pocitos  Montevideo    \n",
      "1  1930  13 Jul 1930 - 15:00   Group 4  Parque Central  Montevideo    \n",
      "2  1930  14 Jul 1930 - 12:45   Group 2  Parque Central  Montevideo    \n",
      "3  1930  14 Jul 1930 - 14:50   Group 3         Pocitos  Montevideo    \n",
      "4  1930  15 Jul 1930 - 16:00   Group 1  Parque Central  Montevideo    \n",
      "\n",
      "  Home Team Name  Home Team Goals  Away Team Goals Away Team Name  \\\n",
      "0         France                4                1         Mexico   \n",
      "1            USA                3                0        Belgium   \n",
      "2     Yugoslavia                2                1         Brazil   \n",
      "3        Romania                3                1           Peru   \n",
      "4      Argentina                1                0         France   \n",
      "\n",
      "  Win conditions  ...  Half-time Away Goals                 Referee  \\\n",
      "0                 ...                     0  LOMBARDI Domingo (URU)   \n",
      "1                 ...                     0       MACIAS Jose (ARG)   \n",
      "2                 ...                     0     TEJADA Anibal (URU)   \n",
      "3                 ...                     0   WARNKEN Alberto (CHI)   \n",
      "4                 ...                     0     REGO Gilberto (BRA)   \n",
      "\n",
      "                Assistant 1                 Assistant 2 RoundID MatchID  \\\n",
      "0     CRISTOPHE Henry (BEL)         REGO Gilberto (BRA)     201    1096   \n",
      "1  MATEUCCI Francisco (URU)       WARNKEN Alberto (CHI)     201    1090   \n",
      "2   VALLARINO Ricardo (URU)         BALWAY Thomas (FRA)     201    1093   \n",
      "3       LANGENUS Jean (BEL)    MATEUCCI Francisco (URU)     201    1098   \n",
      "4      SAUCEDO Ulises (BOL)  RADULESCU Constantin (ROU)     201    1085   \n",
      "\n",
      "   Home Team Initials  Away Team Initials Total Goals Half-time Goals  \n",
      "0                 FRA                 MEX           5               3  \n",
      "1                 USA                 BEL           3               2  \n",
      "2                 YUG                 BRA           3               2  \n",
      "3                 ROU                 PER           4               1  \n",
      "4                 ARG                 FRA           1               0  \n",
      "\n",
      "[5 rows x 22 columns]\n"
     ]
    }
   ],
   "source": [
    "# Your code here\n",
    "# Create a new column \"Half-time Goals\" by summing the goals scored by home and away teams at half-time\n",
    "df['Half-time Goals'] = df['Half-time Home Goals'] + df['Half-time Away Goals']\n",
    "\n",
    "# Display the DataFrame to verify the new column\n",
    "print(df.head())\n"
   ]
  },
  {
   "cell_type": "code",
   "execution_count": 18,
   "metadata": {},
   "outputs": [
    {
     "data": {
      "text/plain": [
       "Index(['Year', 'Datetime', 'Stage', 'Stadium', 'City', 'Home Team Name',\n",
       "       'Home Team Goals', 'Away Team Goals', 'Away Team Name',\n",
       "       'Win conditions', 'Attendance', 'Half-time Home Goals',\n",
       "       'Half-time Away Goals', 'Referee', 'Assistant 1', 'Assistant 2',\n",
       "       'RoundID', 'MatchID', 'Home Team Initials', 'Away Team Initials',\n",
       "       'Total Goals', 'Half-time Goals'],\n",
       "      dtype='object')"
      ]
     },
     "execution_count": 18,
     "metadata": {},
     "output_type": "execute_result"
    }
   ],
   "source": [
    "# Run this cell without changes to see your new column\n",
    "df.columns"
   ]
  },
  {
   "cell_type": "markdown",
   "metadata": {},
   "source": [
    "Run the code below. You'll notice that for Korea, there are records for both North-Korea (Korea DPR) and South-Korea (Korea Republic). "
   ]
  },
  {
   "cell_type": "code",
   "execution_count": 19,
   "metadata": {},
   "outputs": [
    {
     "data": {
      "text/plain": [
       "179         Korea DPR\n",
       "187         Korea DPR\n",
       "374    Korea Republic\n",
       "386    Korea Republic\n",
       "434    Korea Republic\n",
       "444    Korea Republic\n",
       "480    Korea Republic\n",
       "524    Korea Republic\n",
       "593    Korea Republic\n",
       "609    Korea Republic\n",
       "635    Korea Republic\n",
       "642    Korea Republic\n",
       "655    Korea Republic\n",
       "710    Korea Republic\n",
       "753         Korea DPR\n",
       "802    Korea Republic\n",
       "818    Korea Republic\n",
       "Name: Home Team Name, dtype: object"
      ]
     },
     "execution_count": 19,
     "metadata": {},
     "output_type": "execute_result"
    }
   ],
   "source": [
    "# Run this cell without changes\n",
    "\n",
    "# Display all records containing the string 'Korea'\n",
    "df.loc[df['Home Team Name'].str.contains('Korea'), 'Home Team Name']"
   ]
  },
  {
   "cell_type": "markdown",
   "metadata": {},
   "source": [
    "Imagine that, for some reason, we simply want Korea listed as one entry, so we want to replace every \"Home Team Name\" and \"Away Team Name\" entry that contains \"Korea\" to simply \"Korea\". In the same way, we want to change the columns \"Home Team Initials\" and \"Away Team Initials\" to NSK (North & South Korea) instead of \"KOR\" and \"PRK\". "
   ]
  },
  {
   "cell_type": "code",
   "execution_count": 20,
   "metadata": {},
   "outputs": [
    {
     "name": "stdout",
     "output_type": "stream",
     "text": [
      "   Year              Datetime    Stage         Stadium         City  \\\n",
      "0  1930  13 Jul 1930 - 15:00   Group 1         Pocitos  Montevideo    \n",
      "1  1930  13 Jul 1930 - 15:00   Group 4  Parque Central  Montevideo    \n",
      "2  1930  14 Jul 1930 - 12:45   Group 2  Parque Central  Montevideo    \n",
      "3  1930  14 Jul 1930 - 14:50   Group 3         Pocitos  Montevideo    \n",
      "4  1930  15 Jul 1930 - 16:00   Group 1  Parque Central  Montevideo    \n",
      "\n",
      "  Home Team Name  Home Team Goals  Away Team Goals Away Team Name  \\\n",
      "0         France                4                1         Mexico   \n",
      "1            USA                3                0        Belgium   \n",
      "2     Yugoslavia                2                1         Brazil   \n",
      "3        Romania                3                1           Peru   \n",
      "4      Argentina                1                0         France   \n",
      "\n",
      "  Win conditions  ...  Half-time Away Goals                 Referee  \\\n",
      "0                 ...                     0  LOMBARDI Domingo (URU)   \n",
      "1                 ...                     0       MACIAS Jose (ARG)   \n",
      "2                 ...                     0     TEJADA Anibal (URU)   \n",
      "3                 ...                     0   WARNKEN Alberto (CHI)   \n",
      "4                 ...                     0     REGO Gilberto (BRA)   \n",
      "\n",
      "                Assistant 1                 Assistant 2 RoundID MatchID  \\\n",
      "0     CRISTOPHE Henry (BEL)         REGO Gilberto (BRA)     201    1096   \n",
      "1  MATEUCCI Francisco (URU)       WARNKEN Alberto (CHI)     201    1090   \n",
      "2   VALLARINO Ricardo (URU)         BALWAY Thomas (FRA)     201    1093   \n",
      "3       LANGENUS Jean (BEL)    MATEUCCI Francisco (URU)     201    1098   \n",
      "4      SAUCEDO Ulises (BOL)  RADULESCU Constantin (ROU)     201    1085   \n",
      "\n",
      "   Home Team Initials  Away Team Initials Total Goals Half-time Goals  \n",
      "0                 FRA                 MEX           5               3  \n",
      "1                 USA                 BEL           3               2  \n",
      "2                 YUG                 BRA           3               2  \n",
      "3                 ROU                 PER           4               1  \n",
      "4                 ARG                 FRA           1               0  \n",
      "\n",
      "[5 rows x 22 columns]\n"
     ]
    }
   ],
   "source": [
    "# Update the 'Home Team Name' and 'Home Team Initials' columns\n",
    "# Update the 'Home Team Name' column\n",
    "df['Home Team Name'] = df['Home Team Name'].replace({'.*Korea.*': 'Korea'}, regex=True)\n",
    "\n",
    "# Update the 'Home Team Initials' column\n",
    "df['Home Team Initials'] = df['Home Team Initials'].replace({'KOR': 'NSK', 'PRK': 'NSK'})\n",
    "\n",
    "# Display the updated DataFrame to verify the changes\n",
    "print(df.head())\n",
    "\n"
   ]
  },
  {
   "cell_type": "markdown",
   "metadata": {},
   "source": [
    "Make sure to verify your answer!"
   ]
  },
  {
   "cell_type": "code",
   "execution_count": 21,
   "metadata": {},
   "outputs": [
    {
     "name": "stdout",
     "output_type": "stream",
     "text": [
      "  Home Team Name Home Team Initials\n",
      "0         France                FRA\n",
      "1            USA                USA\n",
      "2     Yugoslavia                YUG\n",
      "3        Romania                ROU\n",
      "4      Argentina                ARG\n"
     ]
    }
   ],
   "source": [
    "# Check the updated columns\n",
    "# Check the updated columns\n",
    "updated_columns = df[['Home Team Name', 'Home Team Initials']].head()\n",
    "print(updated_columns)\n"
   ]
  },
  {
   "cell_type": "markdown",
   "metadata": {},
   "source": [
    "## Summary\n",
    "\n",
    "In this lab, you practiced accessing data within Pandas!"
   ]
  }
 ],
 "metadata": {
  "kernelspec": {
   "display_name": "Python (learn-env)",
   "language": "python",
   "name": "learn-env"
  },
  "language_info": {
   "codemirror_mode": {
    "name": "ipython",
    "version": 3
   },
   "file_extension": ".py",
   "mimetype": "text/x-python",
   "name": "python",
   "nbconvert_exporter": "python",
   "pygments_lexer": "ipython3",
   "version": "3.8.16"
  }
 },
 "nbformat": 4,
 "nbformat_minor": 4
}
